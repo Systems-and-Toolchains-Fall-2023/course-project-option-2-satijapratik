{
 "cells": [
  {
   "cell_type": "code",
   "execution_count": 1,
   "metadata": {},
   "outputs": [],
   "source": [
    "from confluent_kafka import Producer\n",
    "import socket\n",
    "#Initialize Your Parameters here - Keep the variable values as is for the ones you can't find on the Confluent-Kafka connection \n",
    "KAFKA_CONFIG = {\n",
    "    \"bootstrap.servers\":\"pkc-6ojv2.us-west4.gcp.confluent.cloud:9092\",\n",
    "    \"security.protocol\":\"SASL_SSL\",\n",
    "    \"sasl.mechanisms\":\"PLAIN\",\n",
    "    \"sasl.username\":\"ZIGFIPPZDQBDNKRN\",\n",
    "    \"sasl.password\":\"f8gyTRboB8kvt6OXO8GmjGI4sUdbC72C2avIJCr9FYsZYBmKagc+ljNQoQJnLs9m\",\n",
    "    \"session.timeout.ms\":\"45000\",\n",
    "    \"group.id\":\"python-group-1\",\n",
    "    'auto.offset.reset': 'smallest',\n",
    "    'client.id': socket.gethostname()\n",
    "}\n",
    "\n",
    "\n",
    "topic_name = \"pyspark_topic\"\n",
    "producer = Producer(KAFKA_CONFIG)\n"
   ]
  },
  {
   "cell_type": "code",
   "execution_count": 2,
   "metadata": {},
   "outputs": [],
   "source": [
    "import feedparser\n",
    "import time\n",
    "\n",
    "# We are searching for tcp+udp+icmp\n",
    "feed_url = \"https://news.google.com/rss/search?q=popular+cyber+attacks\"\n",
    "\n",
    "# Set the start time\n",
    "start_time = time.time()\n",
    "\n",
    "# Define the duration (in seconds) for which the listener should run (5 minutes = 300 seconds)\n",
    "duration = 300\n",
    "\n",
    "def extract_news_feed(feed_url, duration):\n",
    "    feed = feedparser.parse(feed_url)\n",
    "    articles = []\n",
    "    extracted_articles = set()\n",
    "    \n",
    "    while (time.time() - start_time) < duration :\n",
    "        for entry in feed.entries:\n",
    "            link = entry.link\n",
    "            title = entry.title.encode('ascii', 'ignore').decode()\n",
    "            unique_id = f'{link}-{title}'\n",
    "            if unique_id in extracted_articles:\n",
    "                continue\n",
    "            extracted_articles.add(unique_id)\n",
    "            article_data = {\"title\": title, \"link\": link}\n",
    "            if article_data is not None:\n",
    "                producer.produce(topic_name, key=article_data[\"title\"], value=article_data[\"link\"])\n",
    "        producer.flush()\n",
    "\n",
    "extract_news_feed(feed_url, duration)\n"
   ]
  }
 ],
 "metadata": {
  "kernelspec": {
   "display_name": "base",
   "language": "python",
   "name": "python3"
  },
  "language_info": {
   "codemirror_mode": {
    "name": "ipython",
    "version": 3
   },
   "file_extension": ".py",
   "mimetype": "text/x-python",
   "name": "python",
   "nbconvert_exporter": "python",
   "pygments_lexer": "ipython3",
   "version": "3.9.17"
  },
  "orig_nbformat": 4
 },
 "nbformat": 4,
 "nbformat_minor": 2
}
